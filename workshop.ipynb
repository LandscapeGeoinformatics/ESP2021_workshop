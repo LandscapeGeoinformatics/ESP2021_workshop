{
 "cells": [
  {
   "cell_type": "markdown",
   "id": "de5faa9d",
   "metadata": {},
   "source": [
    "# Net Primary Production (NPP) - estimation of annual anomalies and trends over the last 20 years using R software: a case study in Estonia\n",
    "tutors: Bruno Montibeller, Holger Virro and Iuliia Burdun <br>\n",
    "contacts bruno.montibeller@ut.ee\n",
    "\n",
    "\n",
    "## Introduction\n",
    "**The goal of this workshop is to teach the participants how to work with spatial data in R programming software by applying the Mann-Kendall (MK) trend test and calculate Theil–Sen values on a gridded net primary production data.**\n",
    "\n",
    "Net primary production (NPP) can be defined as the quantity of carbon assimilated per unit of area over a given period of time. It is calculated through the subtraction of the plant respiration rates from the gross primary production rates. The NPP data (named __[MOD17A3HGF](https://lpdaac.usgs.gov/products/mod17a3hgfv006/#tools)__) that we will be using is based on the data acquired by the Moderate Resolution Imaging Spectroradiometer (MODIS) remote sensor onboard of the Terra satellite. The data is calculated on annual basis using the gross primary production product of the same sensor, annual rates of growth respiration and annual maintenance respiration of live cells in wood. Additional info can be found in the __[user guide](https://lpdaac.usgs.gov/documents/495/MOD17_User_Guide_V6.pdf)__. \n",
    "\n",
    "MK trend test has been widely applied to infer about the temporal trends in time series of environmental variables. MK is a nonparametric test; therefore, it does not require normal distribution of the data, but it does assume no autocorrelation in the time series. The MK test has as null hypothesis that the time series has no trend, and the alternative hypothesis is that it does have a trend (upward or downward). \n",
    "\n",
    "The MK trend test first calculates the differences between all pairs of earlier and later data points in the time series. After that, it calculates the variance of these differences, which is posteriorly used to calculate the Z test value. Finally, the statistical significance of the trend is quantified by calculating the probability associated with the normalized Z test. If Z > 0, it indicates an increasing trend and if Z < 0 it indicates a decreasing trend. Usually, the trends are defined as significant using 95% confidence level. In addition to the trend calculation, it is also possible to quantify the magnitude of the trends. The magnitudes can be estimated by using the nonparametric Sen statistic — more specifically, the Theil–Sen estimator which is given by the median of the slopes of each pair of points. To calculate the Theil–Sen, the times series data is ordered accordingly to the time (as function of time) and a confidence interval is provided for each slope value (same as in the MK test).\n",
    "\n",
    "## Data\n",
    "### __[Estonian boundaries](https://gadm.org/data.html)__\n",
    "Shapefile with Estonian political boundaries.\n",
    "### __[Estonian forest cover](https://doi.org/10.1038/s41893-020-00609-y)__\n",
    "The forest cover dataset used in this workshop was acquired from __[Senf and Seidl 2020]( https://doi.org/10.1038/s41893-020-00609-y)__. The authors mapped forest disturbance for all European countries annually from 1986 to 2020 using satellite images. Based on the __[forest cover layer](https://zenodo.org/record/4570157)__ and disturbance maps provided by the authors for Estonia, we removed all forest areas that suffered any disturbance during the mentioned period. By doing that, we retrieved the forest cover in 2020 for Estonia. To remove the edge effect (or border effect), we applied an inward buffer of 500 meters in the forest cover areas. In this way, we removed NPP pixels of the edges that can potentially result in biased analysis. Therefore, all analysis performed in this workshop are based on NPP pixels that overlap the called “core forest areas” (the central part of the forest areas).\n",
    "### __[MODIS NPP]( https://doi.org/10.1038/s41893-020-00609-y)__\n",
    "21 rasters with annual (2000–2020) Net Primary Production (NPP) at 500 meter (m) pixel resolution.\n",
    "\n",
    "## R libraries \n",
    "* __[terra](https://cran.r-project.org/web/packages/terra/terra.pdf)__ - methods for spatial data analysis with raster and vector data.\n",
    "* __[raster](https://cran.r-project.org/web/packages/raster/raster.pdf)__ - reading, writing, manipulating, analyzing and modeling of spatial data.\n",
    "* __[tmap](https://cran.r-project.org/web/packages/tmap/tmap.pdf)__ - create thematic maps.\n",
    "* __[sf](https://cran.r-project.org/web/packages/sf/sf.pdf)__ - support for simple features, a standardized way to encode spatial vector data.\n",
    "* __[viridis](https://cran.r-project.org/web/packages/viridis/viridis.pdf)__ - color maps designed to improve graph readability for readers with common forms of color blindness and/or color vision deficiency.\n",
    "* __[rgdal](https://cran.r-project.org/web/packages/rgdal/rgdal.pdf)__ - provides access to projection/transformation operations.\n",
    "* __[tidyverse](https://www.tidyverse.org/)__ - set of packages designed for data science.\n",
    "* __[tidyr](https://cran.r-project.org/web/packages/tidyr/tidyr.pdf)__  - tools for changing the shape and hierarchy of a dataset.\n",
    "* __[wql](https://cran.r-project.org/web/packages/wql/wql.pdf)__ - functions useful for analysis of similar-frequency time series data.\n",
    "* __[plyr](https://cran.r-project.org/web/packages/plyr/plyr.pdf)__ - helps summarize data quickly.\n",
    "* __[maditr](https://cran.r-project.org/web/packages/maditr/maditr.pdf)__  - provides pipe-style interface for data.table package.\n",
    "* __[gifski](https://cran.r-project.org/web/packages/gifski/gifski.pdf)__  - converts images to GIF animations. \n",
    "\n",
    "## Workflow\n"
   ]
  },
  {
   "cell_type": "code",
   "execution_count": null,
   "id": "ed28c40e",
   "metadata": {},
   "outputs": [],
   "source": [
    "#Install libraries\n",
    "install.packages(c(\"wql\",  \"maditr\")) "
   ]
  },
  {
   "cell_type": "code",
   "execution_count": null,
   "id": "6fa43888",
   "metadata": {},
   "outputs": [],
   "source": [
    "# Load packages \"quietly\" with suppressMessages and suppressWarnings\n",
    "suppressMessages(suppressWarnings(require(terra)))\n",
    "suppressMessages(suppressWarnings(require(raster)))\n",
    "suppressMessages(suppressWarnings(require(tmap)))\n",
    "suppressMessages(suppressWarnings(require(sf)))\n",
    "suppressMessages(suppressWarnings(require(viridis)))\n",
    "suppressMessages(suppressWarnings(require(rgdal)))\n",
    "suppressMessages(suppressWarnings(require(tidyverse)))\n",
    "suppressMessages(suppressWarnings(require(tidyr)))\n",
    "suppressMessages(suppressWarnings(require(wql)))\n",
    "suppressMessages(suppressWarnings(require(plyr)))\n",
    "suppressMessages(suppressWarnings(require(maditr)))\n",
    "suppressMessages(suppressWarnings(require(gifski)))\n",
    "suppressMessages(suppressWarnings(require(curl)))"
   ]
  },
  {
   "cell_type": "markdown",
   "id": "2a0c80e0",
   "metadata": {},
   "source": [
    "## Load and explore the data"
   ]
  },
  {
   "cell_type": "markdown",
   "id": "7a4cf278",
   "metadata": {},
   "source": [
    "### Estonian boundaries data"
   ]
  },
  {
   "cell_type": "code",
   "execution_count": null,
   "id": "46630948",
   "metadata": {},
   "outputs": [],
   "source": [
    "download.file(\"https://github.com/LandscapeGeoinformatics/ESP2021_workshop/raw/main/Data/shp/eesti.zip\", destfile=\"eesti.zip\")\n",
    "unzip(\"eesti.zip\")\n",
    "est_shp <-  st_read(\"eesti.shp\")\n",
    "glimpse(est_shp)\t\t#glimpse function shows columns and first rows of shape file"
   ]
  },
  {
   "cell_type": "code",
   "execution_count": null,
   "id": "2bfe382a",
   "metadata": {},
   "outputs": [],
   "source": [
    "##Let's plot est_shp and see how it looks\n",
    "tm_shape(est_shp, projection = \"+proj=longlat +datum=WGS84 +no_defs \") + \n",
    "\ttm_polygons(col=\"grey\", \t\t#fill colour\n",
    "\t\t\tborder.col=\"gray23\",\t#border colour\n",
    "\t\t\tlty = \"dotted\",\t\t#dotted type of border line\n",
    "\t\t\tlwd = 2)+\t\t\t#width of border line\n",
    "\ttm_compass(type = \"8star\", position = c(\"left\", \"top\"))+\t#add north arrow\n",
    "\ttm_scale_bar(position=c(\"center\", \"bottom\"),\t#add scale bar\n",
    "\t\t\tlwd = 1,\n",
    "\t\t\tbreaks = c(0, 25, 50), \n",
    "\t\t\ttext.size = 1)"
   ]
  },
  {
   "cell_type": "markdown",
   "id": "7d611c8d",
   "metadata": {},
   "source": [
    "### Estonian forest cover data"
   ]
  },
  {
   "cell_type": "code",
   "execution_count": null,
   "id": "c0213a44",
   "metadata": {},
   "outputs": [],
   "source": [
    "#forest cover data as shapefile \n",
    "download.file(\"https://github.com/oleksandrkarasov/some/raw/main/forestcover_estonia_2020_510.zip\", destfile=\"forestcover_estonia_2020_510.zip\")\n",
    "unzip(\"forestcover_estonia_2020_510.zip\")\n",
    "forest_shp <-  st_read(\"forestcover_estonia_2020_510.shp\")\n",
    "glimpse(forest_shp)\n",
    "\n",
    "#forest core data as raster\n",
    "forest_cover_rst<-raster(\"Data/forestcover_estonia_2020.tif\")\n",
    "glimpse(forest_cover_rst)"
   ]
  },
  {
   "cell_type": "code",
   "execution_count": null,
   "id": "ccdbf72f",
   "metadata": {},
   "outputs": [],
   "source": [
    "# Let's plot forest  cover data to see how it looks\n",
    "lab<-c (\"No forest\", \"Forest\")\t\t# set labels\n",
    "cols_forest <- c(\"#f8ede3\", \"#cfdac8\")\t\t# set colours\n",
    "options(repr.plot.width = 5, repr.plot.height =5, repr.plot.res = 300)\n",
    "\n",
    "tm_shape(forest_cover_rst, projection = \"+proj=longlat +datum=WGS84 +no_defs \")+\n",
    "\ttm_raster(style = \"fixed\", title = \"Forest Cover in Estonia\",\n",
    "\t\tbreaks = c(0,0.5, 1), palette = cols_forest, labels = lab)+\n",
    "\ttm_scale_bar(position=c(\"center\", \"bottom\"),\n",
    "\t\t\tlwd = 1,\n",
    "\t\t\tbreaks = c(0, 25, 50), \n",
    "\t\t\ttext.size = 1)\n",
    "\n",
    "# Let's plot forest core cover data to see how it looks\n",
    "tm_shape(est_shp) + \n",
    "\ttm_polygons(col=\"grey\", \n",
    "\t\t\tborder.col=\"gray23\", \n",
    "\t\t\tlty = \"dotted\",\n",
    "\t\t\tlwd = 2)+\n",
    "\ttm_shape(forest_shp)+\n",
    "\ttm_polygons(col= \"#00917c\",\n",
    "\t\t\tborder.col=\"#00917c\")+ \n",
    "\ttm_layout(title=\"Forest Core Cover\")+\n",
    "\ttm_scale_bar(position=c(\"center\", \"bottom\"),\n",
    "\t\t\tlwd = 1,\n",
    "\t\t\tbreaks = c(0, 25, 50), \n",
    "\t\t\ttext.size = 1)"
   ]
  },
  {
   "cell_type": "markdown",
   "id": "1a5407f0",
   "metadata": {},
   "source": [
    "### MODIS NPP data"
   ]
  },
  {
   "cell_type": "code",
   "execution_count": null,
   "id": "0aebc9f2",
   "metadata": {},
   "outputs": [],
   "source": [
    "npp_rst<-list.files(\"Data/NPP\", pattern = \"001.tif\", full.names = T)\t\n",
    "npp_list<-list.files(\"Data/NPP\", pattern = \"001.tif\")\n",
    "str(npp_rst)\t# see the structure of npp_rst - shows the full path to raster files\n",
    "str(npp_list)\t# see the structure of npp_list - shows the name of raster files\n"
   ]
  },
  {
   "cell_type": "code",
   "execution_count": null,
   "id": "7aca6e96",
   "metadata": {},
   "outputs": [],
   "source": [
    "## Let's explore MODIS NPP rasters! Plot one MODIS NPP row raster to see how it looks\n",
    "npp_fst_rst<-rast(npp_rst[1])\t\t#select and open the first raster from npp_rst\n",
    "npp_col <- c (\"#c9ffb9\",\"#9be787\",\"#6ace55\",\"#37bd55\",\"#00ab69\",\"#009780\",\"#008c83\")\t#set color scheme for NPP map\n",
    "options(repr.plot.width = 10, repr.plot.height =10, repr.plot.res = 300, scipen=999)\t\t#set options of the figure size\n",
    "\n",
    "tm_shape(npp_fst_rst)+\n",
    "\ttm_raster(style = \"fixed\", \n",
    "\t\ttitle = \"MODIS Net Primary Production\\n (NPP - KgC/m²/Year)\", \n",
    "\t\tbreaks = c(0, 5000, 10000, 15000, 20000, 25000, 30000, 35000),\n",
    "            palette = npp_col,\n",
    "\t\t legend.hist = TRUE )+\n",
    "\ttm_legend(outside = TRUE,\n",
    "\t\tlegend.title.size = 2,\n",
    "\t\tlegend.text.size =1,\n",
    "\t\thist.width = 2,\n",
    "\t\thist.height = 0.5)+ \n",
    "\ttm_scale_bar(position=c(\"right\", \"bottom\"),\n",
    "\t\t\tlwd = 1,\n",
    "\t\t\tbreaks = c(0, 25, 50), \n",
    "\t\t\ttext.size = 1)+\n",
    "\ttm_shape(est_shp) + \n",
    "\ttm_polygons(col=NA, \n",
    "\t\t\tborder.col=\"gray23\", \n",
    "\t\t\talpha=0, \n",
    "\t\t\tlty = \"dotted\",\n",
    "\t\t\tlwd = 2)+\n",
    "\ttm_compass(type = \"8star\", position = c(\"left\", \"top\"))\n",
    "\n",
    "## Look at the NPP values distribution. \n",
    "## Does it look suspicious? Have you noticed that there are NPP data over the Baltic Sea?  "
   ]
  },
  {
   "cell_type": "markdown",
   "id": "9ad6156c",
   "metadata": {},
   "source": [
    "## NPP MODIS processing \n",
    "MODIS NPP raw values have to be masked out over non-vegetated areas (such as Baltic Sea) and scaled. For this, we will use a matrix with the reclassification scheme that represents the range of values defined on the NPP user __[user guide document](https://lpdaac.usgs.gov/documents/495/MOD17_User_Guide_V6.pdf )__ "
   ]
  },
  {
   "cell_type": "code",
   "execution_count": null,
   "id": "989480c2",
   "metadata": {},
   "outputs": [],
   "source": [
    "#Create matrix with the reclassification scheme\n",
    "npp_reclass_mtx <- c(-Inf,-30001, NA,\t#values from -Inf to -30001 will become NaN\n",
    "                    32701,Inf,NA)\t\t##values from 32701 to Inf will become NaN\n",
    "npp_reclass_mtx <- matrix(npp_reclass_mtx, ncol=3, byrow=TRUE)\n",
    "npp_reclass_mtx\t\t#matrix for reclassification "
   ]
  },
  {
   "cell_type": "code",
   "execution_count": null,
   "id": "3e7e7711",
   "metadata": {},
   "outputs": [],
   "source": [
    "# Prepare forest cover data to be used for NPP clipping\n",
    "# Let's see the properties of forest_shp file\n",
    "glimpse(forest_shp)\n",
    "\n",
    "# Projection of forest_shp is Lambert_Azimuthal_Equal_Area \n",
    "## crs = +proj=laea +lat_0=52 +lon_0=10 +x_0=4321000 +y_0=3210000 +ellps=GRS80 +units=m +no_defs\n",
    "##Let's see what is the coordinate reference system for npp_fst_rst file\n",
    "crs(npp_fst_rst)\n",
    "st_crs(npp_fst_rst) == st_crs(forest_cover_rst)\t#FALSE means that coordinate reference systems are not equal\n",
    "\n"
   ]
  },
  {
   "cell_type": "markdown",
   "id": "48bd41ca",
   "metadata": {},
   "source": [
    "For geospatial analysis, we need to have data in the same coordinate reference system. We will use **forest_cover_rst** projection for all other spatial data, since this projection accurately represents area.\n"
   ]
  },
  {
   "cell_type": "code",
   "execution_count": null,
   "id": "dc3b1927",
   "metadata": {},
   "outputs": [],
   "source": [
    "newproj<-\"+proj=laea +lat_0=52 +lon_0=10 +x_0=4321000 +y_0=3210000 +ellps=GRS80 +units=m +no_defs\" \t#set the projection"
   ]
  },
  {
   "cell_type": "code",
   "execution_count": null,
   "id": "64c843ad",
   "metadata": {},
   "outputs": [],
   "source": [
    "# Rasterize the Estonian limits shapefile to speed up the clipping process below\n",
    "glimpspe(npp_fst_rst)\n",
    "npp_proj_rst<-projectRaster(npp_fst_rst, crs=newproj,res=500)\t#reproject raster\n",
    "forest_rst<-rasterize(forest_shp, npp_proj_rst)\t#rasterized forest_shp"
   ]
  },
  {
   "cell_type": "code",
   "execution_count": null,
   "id": "07b380d4",
   "metadata": {},
   "outputs": [],
   "source": [
    "# Extract and rename the NPP .tif files according to the date of acquisition presented in the file name\n",
    "npp_short_list <-as.character(substr(npp_list,28,31))\n",
    "npp_short_list<- paste(\"MODIS_NPP\",npp_short_list, sep = \"_\")\n",
    "npp_short_list<-paste( npp_short_list,\".tif\", sep = \"\")\n",
    "npp_short_list"
   ]
  },
  {
   "cell_type": "markdown",
   "id": "123a61e6",
   "metadata": {},
   "source": [
    "Clip MODIS NPP data based on forest data; at the same time, the rasters will be reclassified and reprojected."
   ]
  },
  {
   "cell_type": "code",
   "execution_count": null,
   "id": "6a80695a",
   "metadata": {},
   "outputs": [],
   "source": [
    "#No need to run this code!\n",
    "\n",
    "#for (i in 1:length(npp_rst)){  \t\t\t#we work with MODIS NPP rasters \n",
    "#  r<-rast(npp_rst[i])\t\t\t\t\t#rast function creates a SpatRaster object\n",
    "#  r <- classify(r,npp_reclass_mtx)\t\t\t#reclassify based on npp_reclass_mtx matrix\n",
    "#  r<-raster(r)\t\t\t\t\t\t#convert the SpatRaster object to a RasterLayer object\n",
    "#  r<-projectRaster(r, crs=newproj,res=500)\t#reproject raster\n",
    "#  r<-crop(r, forest_rst)\t\t\t\t#crop SpatRaster object based on forest_b350_rst\n",
    "#  r<-mask(r,forest_rst,updatevalue=NA)\t\t#mask SpatRaster object exactly at the forest border and assign NA values for pixels outside the border\n",
    "#  r<-r*0.0001\t\t\t\t\t\t#scale factor to convert NPP values to KgC/m2/yr\n",
    "#  writeRaster(r, filename=file.path(\"...path\",\n",
    "#                                    paste0(gsub(\".tif\",\"_cut_forest.tif\",npp_short_list[i]))),\n",
    "#              format=\"GTiff\", overwrite=T,  wopt= list(gdal=c(\"COMPRESS=LZW\", \"of=COG\")))# save the output NPP raster\n",
    "#  print(names(r))\n",
    "#  print(npp_short_list[i])\n",
    "#  print(i)\n",
    "#  rm(r)\n",
    "#}"
   ]
  },
  {
   "cell_type": "code",
   "execution_count": null,
   "id": "b9a5c15d",
   "metadata": {},
   "outputs": [],
   "source": [
    "# List the cut and scaled NPP rasters\n",
    "npp_clip_list<-list.files(\"Data/NPP_cut\", pattern = \"cut_forest.tif\", full.names = T)\n",
    "npp_clip_list \t#21 raster files"
   ]
  },
  {
   "cell_type": "markdown",
   "id": "9ad8013d",
   "metadata": {},
   "source": [
    "Let's verify several cut NPP file by plotting them. We will create maps for 5 years: 2000, 2005, 2010, 2015, 2020.\n"
   ]
  },
  {
   "cell_type": "code",
   "execution_count": null,
   "id": "cad780bc",
   "metadata": {},
   "outputs": [],
   "source": [
    "npp_col_scaled <- c (\"#fff76a\",  \"#d2e603\",\"#61b15a\",\"#52734d\", \"#184d47\")\t#set color scheme for scaled NPP map\n",
    "breaks_npp <- c(0,0.2,0.4,0.6,0.8, 1)\t#set breacks for NPP data\n",
    "\n",
    "tmap_mode(\"view\")\t\t\t\t#mode \"plot\" - plot static maps in R, mode \"view\" - plot interactive maps \n",
    "map1<-tm_shape(rast(npp_clip_list[1]))+\t#plot first NPP raster in npp_clip_list - data for 2000\n",
    "\ttm_raster(breaks = breaks_npp, palette =npp_col_scaled,\n",
    "\t\t\ttitle = \"MODIS Net Primary\\n Production 2000 (NPP - KgC/m²/Year)\")+\t#set palette and breaks for NPP raster\n",
    "\ttm_shape(rast(npp_clip_list[6]))+\n",
    "\ttm_raster(breaks = breaks_npp,palette =npp_col_scaled,\n",
    "\t\t\ttitle = \"MODIS Net Primary\\n Production 2005 (NPP - KgC/m²/Year)\")+\t\n",
    "\ttm_shape(rast(npp_clip_list[11]))+\n",
    "\ttm_raster(breaks = breaks_npp,palette =npp_col_scaled,\n",
    "\t\t\ttitle = \"MODIS Net Primary\\n Production 2010 (NPP - KgC/m²/Year)\")+\t\n",
    "\ttm_shape(rast(npp_clip_list[16]))+\n",
    "\ttm_raster(breaks = breaks_npp,palette =npp_col_scaled,\n",
    "\t\t\ttitle = \"MODIS Net Primary\\n Production 2015 (NPP - KgC/m²/Year)\")+\t\n",
    "\ttm_shape(rast(npp_clip_list[21]))+\n",
    "\ttm_raster(breaks = breaks_npp,palette =npp_col_scaled,\n",
    "\t\t\ttitle = \"MODIS Net Primary\\n Production 2020 (NPP - KgC/m²/Year)\") \n",
    "\t\n",
    "tmap_leaflet(map1)"
   ]
  },
  {
   "cell_type": "markdown",
   "id": "afdec4b7",
   "metadata": {},
   "source": [
    "To make sure that we will work only with pixels that have valid NPP values during the entire time series, we need to exclude those pixels that have at least one NA value in one of the years. For that, we can use the \"app\" function combined with \"sum\" function to sum all annual rasters into one single raster. If one pixel has NA in any year, that pixels will become NA and, therefore, excluded from our further analysis."
   ]
  },
  {
   "cell_type": "code",
   "execution_count": null,
   "id": "c0a546ea",
   "metadata": {},
   "outputs": [],
   "source": [
    "# First, we need to stack the clipped all MODIS NPP raster files\n",
    "npp_rst<-rast(npp_clip_list)\n",
    "npp_rst\n",
    "names(npp_rst)"
   ]
  },
  {
   "cell_type": "code",
   "execution_count": null,
   "id": "78292252",
   "metadata": {},
   "outputs": [],
   "source": [
    "# Second, apply sum and app functions\n",
    "npp_sum_rst<-app(npp_rst, fun=sum)\t#sum of NPP values in all the NPP rasters\n",
    "npp_sum_rst"
   ]
  },
  {
   "cell_type": "code",
   "execution_count": null,
   "id": "f01922b0",
   "metadata": {},
   "outputs": [],
   "source": [
    "# Third, plot npp_sum_rst data\n",
    "tmap_mode(\"view\")\t\t#interactive map\n",
    "map2<-tm_shape(npp_sum_rst)+\n",
    "\ttm_raster(title = \"Sum of NPP Rasters (KgC/m²)\", \n",
    "\tpalette =npp_col_scaled)\n",
    "tmap_leaflet(map2)"
   ]
  },
  {
   "cell_type": "code",
   "execution_count": null,
   "id": "b3b585a3",
   "metadata": {},
   "outputs": [],
   "source": [
    "# Convert the NPP sum raster to shapefile\n",
    "npp_sum_shp<-as.polygons(npp_sum_rst, dissolve=FALSE)\n",
    "npp_sum_shp\n",
    "\n",
    "# We will use the centroid of each pixel as its identifier (id)\n",
    "npp_sum_shp<-sf::st_as_sf(npp_sum_shp)\t#from SpatVector to polygon\n",
    "npp_sum_shp$id<-st_centroid(npp_sum_shp$geometry)\n",
    "\n",
    "# Split the lat and long of the centroids into columns because we will use them later for merging data frames\n",
    "npp_sum_shp <- npp_sum_shp %>%\n",
    "\tmutate(long =unlist(map(npp_sum_shp$id,1)),\n",
    "\t\tlat = unlist(map(npp_sum_shp$id,2)))\n",
    "length(unique(npp_sum_shp$id))\t#gives the number of unique \"ids\" in npp_sum_shp file"
   ]
  },
  {
   "cell_type": "markdown",
   "id": "47232814",
   "metadata": {},
   "source": [
    "We will intersect npp_sum_shp based on forest cover shapefile in order to retrieve the forest cover area within each pixel. The output will be the NPP pixels with forest. "
   ]
  },
  {
   "cell_type": "code",
   "execution_count": null,
   "id": "cce02112",
   "metadata": {},
   "outputs": [],
   "source": [
    "npp_sum_shp <- st_transform(npp_sum_shp ,st_crs(forest_shp))\t#set projection\n",
    "glimpse(npp_sum_shp)\t\t\t#shapefile with correct projection\n",
    "\n",
    "npp_forest_shp<-st_intersection(npp_sum_shp,forest_shp,sparse = TRUE)\t#areas that intersect both MODIS NPP pixels and forest core cover\n",
    "length(unique(npp_forest_shp$id))\t#gives the number of unique \"ids\" - 534"
   ]
  },
  {
   "cell_type": "markdown",
   "id": "e5e11dcd",
   "metadata": {},
   "source": [
    "Calculate the area of the intersected areas to later filter them leaving out areas that have less than 50% (~12.5 ha) forest cover."
   ]
  },
  {
   "cell_type": "code",
   "execution_count": null,
   "id": "bbd7c733",
   "metadata": {},
   "outputs": [],
   "source": [
    "npp_forest_shp <-npp_forest_shp%>%\n",
    "\tdplyr::mutate(area_ha=as.numeric(st_area(npp_forest_shp)/10000))%>%\t#calculate the area in hectares\n",
    "\tfilter(area_ha > 12.5)%>%\t#filter out objects with area less than 12.5 ha\n",
    "\tdplyr::select(-c(sum, DN))\t#remove column sum and DN\n",
    "length(unique(npp_forest_shp$id))\t#gives the number of unique \"ids\", now we have less pixels - 353"
   ]
  },
  {
   "cell_type": "markdown",
   "id": "0f241d8c",
   "metadata": {},
   "source": [
    "Now we have the pixels wtih >50% (>12.5 ha) of its area covered with core forest areas. We will continue our analysis only with those pixels. For this, we will convert the annual raster to polygons and then to data frame and filter out all the pixels' ids that are not included into **npp_forest_shp$id**.\n"
   ]
  },
  {
   "cell_type": "code",
   "execution_count": null,
   "id": "47868200",
   "metadata": {},
   "outputs": [],
   "source": [
    "npp_annual_shp <-as.polygons(npp_rst, dissolve=FALSE)\n",
    "head(npp_annual_shp, n=10)\t\t\t# shows the first rows of each column of the dataframe\n",
    "npp_annual_shp<-sf::st_as_sf(npp_annual_shp)\t#from SpatVector to polygon\n",
    "npp_annual_shp$id<-st_centroid(npp_annual_shp$geometry)\t#create column id\n",
    "colnames(npp_annual_shp)\t\t\t# see that new id column appears\n",
    "\n",
    "npp_annual_df<-as.data.frame(npp_annual_shp)\t# we have to convert to data.frame because several needed functions work only with data frames\n",
    "glimpse(npp_annual_df)\t\t\t\t\t#see the data frame\n",
    "npp_forest_df<-as.data.frame(npp_forest_shp)\t#also convert to data frame\n",
    "npp_df <- npp_annual_df %>% filter(id %in% npp_forest_df$id)\n",
    "glimpse(npp_df)\t\t\t\t\t\t\t#this is data frame that contains yearly NPP values for forested pixels"
   ]
  },
  {
   "cell_type": "code",
   "execution_count": null,
   "id": "6a37177d",
   "metadata": {},
   "outputs": [],
   "source": [
    "# We will convert the columns' names into rows and later create a column for the years\n",
    "colnames(npp_df)\t\t\t# see the column's names \n",
    "\n",
    "# We have to rename the columns by adding the year\n",
    "new_names<-replicate(21, \"MODIS_NPP\")\n",
    "names_seq<-as.character(sprintf(\"%02d\", 2000:2020))\n",
    "new_names<-paste0(new_names,\"_\",paste0(names_seq))\n",
    "names(npp_df)[1:21] <- new_names\n",
    "head(npp_df, n=5)\t\t\t#see the new names of the columns"
   ]
  },
  {
   "cell_type": "markdown",
   "id": "f19417e7",
   "metadata": {},
   "source": [
    "Explore the NPP data with a boxplot figure. We will create boxplots for each year."
   ]
  },
  {
   "cell_type": "code",
   "execution_count": null,
   "id": "46f11976",
   "metadata": {},
   "outputs": [],
   "source": [
    "# First, combine the data of different years columns into a single column with separate rows for each year\n",
    "npp_df_boxplot <- gather(npp_df[,1:21])\t\t#we have a new data frame with two columns: key (MODIS year) and NPP value\n",
    "str(npp_df_boxplot)\t\t\t\t\t#this data rame does not contain any spatial information (geometry, id)\n",
    "npp_df_boxplot$year <- as.factor(substr(npp_df_boxplot$key,11,14))\t#add a new column with year\n",
    "\n",
    "## For each year calculate quantiles 0.25, 0.5 and 0.75\n",
    "quants_df<-npp_df_boxplot %>% \n",
    "  dplyr::group_by(year) %>% \n",
    "  dplyr::summarize(quants25 = quantile(value, probs = 0.25),\n",
    "\t\t\tquants50 = quantile(value, probs = 0.5),\n",
    "\t\t\tquants75 = quantile(value, probs = 0.75))%>%\n",
    "\tungroup()%>%\n",
    "\tmutate_if(is.numeric, round, digits=2)\n",
    "summary(quants_df)"
   ]
  },
  {
   "cell_type": "code",
   "execution_count": null,
   "id": "c3133d26",
   "metadata": {},
   "outputs": [],
   "source": [
    "# Create boxplot of NPP values by years with added values of quantiles\n",
    "options(repr.plot.width = 15, repr.plot.height =8, repr.plot.res = 300)\n",
    "\n",
    "ggplot()+\n",
    "\tstat_boxplot(data=npp_df_boxplot, aes(x=year, y=value), \n",
    "\t\t\t\tgeom = \"errorbar\", \n",
    "\t\t\t\twidth = 0.3,\n",
    "\t\t\t\tlwd=1,\n",
    "\t\t\t\tcolor=\"#d1d9d9\")+\n",
    "\tgeom_boxplot(data=npp_df_boxplot, aes(x=year, y=value),\n",
    "\t\t\t\toutlier.alpha = 0.1,\n",
    "\t\t\t\tcolor=\"#d1d9d9\",\n",
    "\t\t\t\tfill=\"#cdc7be\")+\n",
    "\tgeom_text(data =quants_df, aes(x = year, y = quants25, label =quants25), \n",
    "\t\t\t\tcolor = \"#387c6d\", \n",
    "\t\t\t\tsize = 4, \n",
    "\t\t\t\tvjust = 1.5, \n",
    "\t\t\t\tfontface=\"bold\")+\n",
    "\tgeom_text(data =quants_df, aes(x = year, y = quants50, label =quants50), \n",
    "\t\t\t\tcolor = \"#db6400\", \n",
    "\t\t\t\tsize = 4, \n",
    "\t\t\t\tvjust = -0.5, \n",
    "\t\t\t\tfontface=\"bold\")+\n",
    "\tgeom_text(data =quants_df, aes(x = year, y = quants75, label =quants75), \n",
    "\t\t\t\tcolor = \"#f05454\", \n",
    "\t\t\t\tsize = 4, \n",
    "\t\t\t\tvjust =-1, \n",
    "\t\t\t\tfontface=\"bold\")+\n",
    "\ttheme(plot.title = element_text( size=14, face=\"bold\"),\n",
    "\t\taxis.title.x = element_text(size=14, face=\"bold\"),\n",
    "\t\taxis.title.y = element_text(size=14, face=\"bold\"),\n",
    "\t\taxis.text = element_text(size=12),\n",
    "\t\tpanel.background = element_rect(fill = \"white\", colour = \"grey50\"))+ \n",
    "\tlabs(x =\"Years\", y = \"MODIS NPP\")"
   ]
  },
  {
   "cell_type": "markdown",
   "id": "2dc4d83d",
   "metadata": {},
   "source": [
    "## Mann-Kendall test\n",
    "As the Mann-Kendall test will be applied for every single pixel, we have to apply some modifications in the data frame. We will convert a wide version of data frame npp_df (with 23 columns and 353 rows) to the long data frame (with 8 columns and 7413 rows)."
   ]
  },
  {
   "cell_type": "code",
   "execution_count": null,
   "id": "11050356",
   "metadata": {},
   "outputs": [],
   "source": [
    "npp_long_df <- npp_df %>% \n",
    "\t\tgather(date,\t\t#the name of key column - will include the names of MODIS files\n",
    "\t\t\tnpp_annual_value,\t#the name of column with NPP data\n",
    "\t\t\t\"MODIS_NPP_2000\":\"MODIS_NPP_2020\")\t#colums that we gather in a new data frame\n",
    "\n",
    "head(npp_df, n=5)\t\t#see the columns of the initial wide data frame\n",
    "head(npp_long_df, n=5)\t\t#see the columns of long data frame"
   ]
  },
  {
   "cell_type": "code",
   "execution_count": null,
   "id": "09fd5659",
   "metadata": {},
   "outputs": [],
   "source": [
    "npp_long_df$year<-as.integer(substr(npp_long_df$date,11,14))\t#create a column with the years information\n",
    "npp_long_df <- npp_long_df %>%\t\t\t\t\t\t#create lat and long columns\n",
    "\tmutate(long = unlist(map(npp_long_df$id,1)),\n",
    "\t\tlat = unlist(map(npp_long_df$id,2)))\n",
    "head(npp_long_df, n=3)"
   ]
  },
  {
   "cell_type": "markdown",
   "id": "03f36e0e",
   "metadata": {},
   "source": [
    "Now we can move to the Mann-Kendall calculation itself."
   ]
  },
  {
   "cell_type": "code",
   "execution_count": null,
   "id": "65e51abe",
   "metadata": {},
   "outputs": [],
   "source": [
    "# First, sort the data frame in chronological order for each \"lat\" and \"long\"\n",
    "npp_long_df <- npp_long_df[order(npp_long_df$lat,npp_long_df$long,\n",
    "                                              npp_long_df$year),]\n",
    "npp_long_df[1:45,]\t#show first 45 rows - check if the sorting worked"
   ]
  },
  {
   "cell_type": "code",
   "execution_count": null,
   "id": "6cc8a833",
   "metadata": {},
   "outputs": [],
   "source": [
    "# Create a function to calculate the annual trends for NPP\n",
    "coef.fcn = function(newdata) {\n",
    "\tres<-mannKen(newdata$npp_annual_value)\n",
    "\treturn(as.data.frame(res))\n",
    "}\n",
    "\n",
    "# The Mann-Kendall test will be applied per groups of lat and long combinations\n",
    "npp_trend_df = npp_long_df %>% \n",
    "\tgroup_by(long, lat)%>%\n",
    "\tdo(coef.fcn(.))\n",
    "head(npp_trend_df, n=5)\t#see the Mann-Kendall test statistics\n",
    "\n",
    "# Categorize the trends in increase, decrease or no-trend according to the p-value (significance)\n",
    "npp_trend_df$trend<-ifelse(npp_trend_df$sen.slope < 0 & \n",
    "\t\t\t\t\tnpp_trend_df$p.value<0.05, \"Decrease\", \n",
    "\t\t\t\tifelse(npp_trend_df$sen.slope >0 & \n",
    "\t\t\t\t\tnpp_trend_df$p.value<0.05, \"Increase\", \"No trend\"))\n",
    "head(npp_trend_df, n=5)\n",
    "unique(npp_trend_df$trend)\t#no negative NPP trends\n",
    "table(npp_trend_df$trend)"
   ]
  },
  {
   "cell_type": "markdown",
   "id": "d4185f10",
   "metadata": {},
   "source": [
    "We can plot the results on the map now. For that, we need to merge the Mann-Kendall test results with the shapefile **\"npp_sum_shp\"**.\n"
   ]
  },
  {
   "cell_type": "code",
   "execution_count": null,
   "id": "9fd66f16",
   "metadata": {},
   "outputs": [],
   "source": [
    "trend_shp<-merge(npp_forest_shp,npp_trend_df, by=c(\"long\",\"lat\"))\t\n",
    "summary(trend_shp)"
   ]
  },
  {
   "cell_type": "code",
   "execution_count": null,
   "id": "6128e4b6",
   "metadata": {},
   "outputs": [],
   "source": [
    "# Create a map of NPP trends\n",
    "tmap_mode(\"view\")\n",
    "\n",
    "map3<-tm_shape(forest_shp) + \n",
    "\t\ttm_polygons(col=\"#4aa96c\", border.col=\"#4aa96c\")+ \t#core forest areas are shown with green colour\n",
    "\ttm_shape(trend_shp[trend_shp$trend==\"Increase\",])+\n",
    "\t\ttm_polygons(col=\"#fb3640\", border.col=\"#fb3640\")+\t#areas of increasing NPP trend are shown with red colour\n",
    "\ttm_shape(trend_shp[trend_shp$trend==\"No trend\",])+\n",
    "\t\ttm_polygons(col=\"#ffc93c\", border.col=\"#ffc93c\")\t#areas of non-significant trend are shown with orange colour\n",
    "tmap_leaflet(map3)"
   ]
  },
  {
   "cell_type": "code",
   "execution_count": null,
   "id": "95ce540f",
   "metadata": {},
   "outputs": [],
   "source": [
    "## Create a map with the Sen's slope values\n",
    "tmap_mode(\"view\")\n",
    "\n",
    "map4<-tm_shape(trend_shp)+\n",
    "\t\ttm_polygons(\"sen.slope\", \n",
    "\t\t\t\ttitle=\"Sen's Slope\",\n",
    "\t\t\t\tpalette =npp_col_scaled, \n",
    "\t\t\t\tborder.col=NULL)\t\n",
    "tmap_leaflet(map4)"
   ]
  },
  {
   "cell_type": "markdown",
   "id": "503417ce",
   "metadata": {},
   "source": [
    "We can multiply the Sen's slope values of each pixels with the respective forest core area to retrieve the total amount of carbon assimilated by that area."
   ]
  },
  {
   "cell_type": "code",
   "execution_count": null,
   "id": "b7286c56",
   "metadata": {},
   "outputs": [],
   "source": [
    "trend_shp$total_carbon<-trend_shp$area_ha*10000*trend_shp$sen.slope\n",
    "summary(trend_shp)\n",
    "tmap_mode(\"view\")\n",
    "\n",
    "map5<-tm_shape(trend_shp)+\n",
    "\t\ttm_polygons(\"total_carbon\", \n",
    "\t\t\t\ttitle=\"Kg C/Year \",\n",
    "\t\t\t\tpalette = npp_col_scaled, \n",
    "\t\t\t\tborder.col=NULL)\n",
    "tmap_leaflet(map5)"
   ]
  },
  {
   "cell_type": "markdown",
   "id": "bb219979",
   "metadata": {},
   "source": [
    "## Coefficient of NPP variation\n",
    "We will calculate a coefficient of variation, and we will see how much (in %) each MODIS NPP pixel varies."
   ]
  },
  {
   "cell_type": "code",
   "execution_count": null,
   "id": "1ca8b17a",
   "metadata": {},
   "outputs": [],
   "source": [
    "variation_df<-npp_long_df%>%\n",
    "\t\tgroup_by(lat, long)%>%\t\t#group data by coordinates\n",
    "\t\tdplyr::summarise(coef_var=sd(npp_annual_value)/mean(npp_annual_value)*100) # calculate coefficient of variation\n",
    "\n",
    "## Merge data frame with shapefile \n",
    "variation_shp<-merge(npp_sum_shp,variation_df, by=c(\"long\",\"lat\"))\t\n",
    "\n",
    "## Pot the coefficient of variation for NPP data\n",
    "tmap_mode(\"view\")\n",
    "map5<-tm_shape(forest_shp) + \n",
    "\t\ttm_polygons(col=\"#4aa96c\", border.col=\"#4aa96c\")+ \t#core forest areas are shown with green colour\n",
    "\ttm_shape(variation_shp) + \n",
    "\t\ttm_polygons(col=\"coef_var\",title = \"NPP Coefficient of Variation (%)\", \n",
    "\t\t\t\tborder.col = NULL)\n",
    "tmap_leaflet(map5)"
   ]
  },
  {
   "cell_type": "markdown",
   "id": "0b4266e4",
   "metadata": {},
   "source": [
    "## NPP anomalies\n",
    "We can calculate annual anomalies. For that, we will be calculating the historical NPP mean for the whole period, the annual mean, and standard deviation. The anomalies are calculated as: \n",
    "\\begin{equation*}\n",
    "z =  \\frac{Annual Mean - Historical Mean}{Historical Standard Deviation}\n",
    "\\quad\\quad \\\n",
    "\\end{equation*}"
   ]
  },
  {
   "cell_type": "code",
   "execution_count": null,
   "id": "a6387e1d",
   "metadata": {},
   "outputs": [],
   "source": [
    "npp_yr_anom_df<-npp_long_df%>% group_by(year) %>% \n",
    "\tdplyr::summarise(annual_mean = mean(npp_annual_value))\t\n",
    "npp_historical_mean<-mean(npp_yr_anom_df$annual_mean)\n",
    "npp_historical_sd<-sd(npp_yr_anom_df$annual_mean)\n",
    "npp_yr_anom_df$anom <- (npp_yr_anom_df$annual_mean - npp_historical_mean)/npp_historical_sd\n",
    "summary(npp_yr_anom_df)"
   ]
  },
  {
   "cell_type": "code",
   "execution_count": null,
   "id": "9743901f",
   "metadata": {},
   "outputs": [],
   "source": [
    "# Classify the anomalies in + and - to use later in the plotting\n",
    "npp_yr_anom_df$sign_anom<-ifelse(npp_yr_anom_df$anom >0,\"+\",\n",
    "\t\t\t\tifelse(npp_yr_anom_df$anom==0,\"NA\",\"-\"))\n",
    "head(npp_yr_anom_df, n=5)\n",
    "table(npp_yr_anom_df$sign_anom)"
   ]
  },
  {
   "cell_type": "markdown",
   "id": "215ddd37",
   "metadata": {},
   "source": [
    "Plot yearly NPP anomalies\n"
   ]
  },
  {
   "cell_type": "code",
   "execution_count": null,
   "id": "b782a39e",
   "metadata": {},
   "outputs": [],
   "source": [
    "options(repr.plot.width = 15, repr.plot.height =8, repr.plot.res = 300)\n",
    "\n",
    "ggplot(npp_yr_anom_df, aes(x=as.factor(year),y=anom, fill = sign_anom))+\n",
    "\t\t# Show 95%  confidence interval for anomalies (1.96)\n",
    "\tgeom_rect(aes(xmin=-Inf, xmax=Inf, ymin=-1.96, ymax=1.96), fill=\"#f4f4f2\")+\t#area of 95% CI\n",
    "\tgeom_hline(yintercept = c(-2,-1,1,2),colour = \"#dbdbdb\", alpha=0.7, size=0.5)+\t#line of 02, -1, 1 and 2 NPP anomalies\n",
    "\t\t# Plot yearly anomalies\n",
    "\tgeom_bar(stat = \"identity\") + \n",
    "\t\t# Plot values of yearly aomalies\n",
    "\tgeom_text(data= npp_yr_anom_df[npp_yr_anom_df$anom>0,],\t\t#positive values\n",
    "\t\t\taes(label = round(anom,2), color=sign_anom), \n",
    "\t\t\t\tsize = 4, \n",
    "\t\t\t\tvjust = -1, \n",
    "\t\t\t\tfontface=\"bold\")+\n",
    "\tgeom_text(data= npp_yr_anom_df[npp_yr_anom_df$anom<0,],\t\t#negative values\n",
    "\t\t\taes(label = round(anom,2), color=sign_anom), \n",
    "\t\t\t\tsize = 4, \n",
    "\t\t\t\tvjust = 1, \n",
    "\t\t\t\tfontface=\"bold\")+\n",
    "\tscale_color_manual(values = c( \"#1f6f8b\", \"#f05454\"))+\t#set text coulours\n",
    "\tscale_fill_manual(values = c( \"#1f6f8b\", \"#f05454\")) +\t#set varplot fill colours\n",
    "\tlabs(y = \"NPP anomalies (Z-score)\", x = \"Years\")+\t\t#labs names\n",
    "\ttheme(text = element_text(size = 14),\t\t\t\t#properties of the theme\n",
    "\t\taxis.title = element_text(size=14, face=\"bold\"),\n",
    "\t\tlegend.position = \"none\",\n",
    "\t\tpanel.background = element_rect(fill = \"white\", colour = \"grey50\"))+\n",
    "\tgeom_hline(yintercept = c(0),colour = \"#495464\", alpha=0.7)+\t#horizontal line at y=0\n",
    "\tylim(-2.5,2.5)\t\t\t#y-axis limits"
   ]
  },
  {
   "cell_type": "code",
   "execution_count": null,
   "id": "26c6fabc",
   "metadata": {},
   "outputs": [],
   "source": [
    "# Calculate anomalies pixel-wise\n",
    "anom_pixel_df<-npp_long_df%>%\n",
    "\t\tdplyr::mutate(anom_pixel=((npp_annual_value-npp_historical_mean)/npp_historical_sd))\n",
    "\n",
    "anom_pixel_df$sign_anomalies<-ifelse(anom_pixel_df$anom_pixel>0,\"+\",\n",
    "\t\t\t\t\tifelse(anom_pixel_df$anom_pixel==0,\"NA\",\"-\"))\n",
    "summary(anom_pixel_df)\t\t#anomalies vary from 6.772 to -4.923"
   ]
  },
  {
   "cell_type": "markdown",
   "id": "ae6b4054",
   "metadata": {},
   "source": [
    "Plot NPP anomalies per pixel"
   ]
  },
  {
   "cell_type": "code",
   "execution_count": null,
   "id": "e7b9a29d",
   "metadata": {},
   "outputs": [],
   "source": [
    "options(repr.plot.width = 15, repr.plot.height =8, repr.plot.res = 300)\n",
    "\n",
    "ggplot(anom_pixel_df, aes(x=as.factor(year),y=anom_pixel, fill=sign_anomalies))+\n",
    "\t\t# Show 95%  confidence interval for anomalies (1.96)\n",
    "\tgeom_rect(aes(xmin=-Inf, xmax=Inf, ymin=-1.96, ymax=1.96), fill=\"#f4f4f2\")+\t#area of 95% CI\n",
    "\tgeom_hline(yintercept = c(seq(-8, 8, by = 1)),colour = \"#dbdbdb\", alpha=0.7, size=0.5)+\t\n",
    "\tgeom_hline(yintercept = c(0),colour = \"#495464\", alpha=0.7)+\t#horizontal line at y=0\n",
    "\t\t# Plot yearly anomalies\n",
    "\tstat_boxplot(geom = \"errorbar\", lwd=1,color=\"#bbbfca\")+\n",
    "\tgeom_boxplot(outlier.alpha = 0.2,color=\"#bbbfca\")+\n",
    "\tlabs(y = \"NPP anomaly (Z-score)\", x = \"Years\")+\n",
    "\ttheme(text = element_text(size = 14),\t\t\t\t#properties of the theme\n",
    "\t\taxis.title = element_text(size=14, face=\"bold\"),legend.position = \"none\",\n",
    "\t\tpanel.background = element_rect(fill = \"white\", colour = \"grey50\"))+\n",
    "\tscale_fill_manual(values = c( \"#1f6f8b\", \"#f05454\")) +\t#set varplot fill colours\n",
    "\tscale_y_continuous(breaks=seq(-7, 7, by = 1),limits=c(-7,7))"
   ]
  },
  {
   "cell_type": "code",
   "execution_count": null,
   "id": "03f6f86f",
   "metadata": {},
   "outputs": [],
   "source": [
    "# Merge data frame with shapefile \n",
    "anom_pixel_df<-anom_pixel_df%>% select(lat, long,anom_pixel, year)\t#select only needed columns\n",
    "anomalies_shp<-merge (npp_sum_shp, anom_pixel_df,  by=c(\"long\",\"lat\"))\t#shapefile of anomalies\n",
    "summary(anomalies_shp)"
   ]
  },
  {
   "cell_type": "markdown",
   "id": "5fdc1e04",
   "metadata": {},
   "source": [
    "Plot anomalies nearby Lahemaa as gif"
   ]
  },
  {
   "cell_type": "code",
   "execution_count": null,
   "id": "a7809288",
   "metadata": {},
   "outputs": [],
   "source": [
    "Lahemaa_area_list = list(rbind(c(5180000, 4130000), \n",
    "\t\t\t\tc(5180000, 4165000), \n",
    "\t\t\t\tc(5230000 , 4165000), \n",
    "\t\t\t\tc(5230000 , 4130000), \n",
    "\t\t\t\tc(5180000, 4130000)))\n",
    "Lahemaa_area_shp<-st_polygon(Lahemaa_area_list) \n",
    "Lahemaa_area_shp = st_sfc(Lahemaa_area_shp, crs = newproj)\n",
    "\n",
    "# Crop data to Lahemaa area\n",
    "anomalies_crop_shp<-st_crop(anomalies_shp, xmin = 5180000, ymin = 4130000, xmax = 5230000 , ymax = 4165000)\t#crop anomalies shp\n",
    "forest_crop_rst <- crop(forest_cover_rst, extent(5180000, 5230000 , 4130000, 4165000))\t\t#crop forest raster"
   ]
  },
  {
   "cell_type": "code",
   "execution_count": null,
   "id": "65328dea",
   "metadata": {},
   "outputs": [],
   "source": [
    "cols_forest <- c(\"#f8ede3\", \"#cfdac8\")\n",
    "br<- c(-5,-4,-3,-2,-1,0, 1 , 2 , 3, 4, 5, 6, 7)\n",
    "lab<-c (\"No forest\", \"Forest\")\n",
    "\n",
    "tmap_mode(\"plot\")\n",
    "animation_fig <-tm_shape(Lahemaa_area_shp) +\t\t\t\t\t#area of interest\n",
    "\t\t\ttm_polygons(col=\"#d3e0ea\", border.col=NULL)+ \t\n",
    "\t\ttm_shape(forest_crop_rst)+\t\t\t\t\t\t#forest cover\n",
    "\t\t\ttm_raster(style = \"fixed\", title = \"Forest Cover in Estonia\",\n",
    "\t\t\t\tbreaks = c(0,0.5, 1), palette = cols_forest,labels = lab)+\n",
    "\t\ttm_shape(anomalies_crop_shp) + \t\t\t\t\t#anomalies\n",
    "\t\t\ttm_polygons(col=\"anom_pixel\",border.col = NULL,breaks = br, title = \"NPP Anomalies\")+\n",
    "\t\ttm_scale_bar(position=c(\"left\", \"bottom\"),\n",
    "\t\t\tlwd = 1,breaks = c(0, 2.5, 5), text.size = 1)+\n",
    "\t\ttm_layout(legend.position = c(\"right\",\"bottom\"))+\n",
    "\t\ttm_facets(along = \"year\")\t\t\t\t\t\t#parameter to animate\n",
    "tmap_animation(animation_fig,\"animation_fig.gif\", loop = TRUE, delay = 70)\t#save animation to local drive"
   ]
  },
  {
   "cell_type": "markdown",
   "id": "2edd8e22",
   "metadata": {},
   "source": [
    "To see the **animation_fig.gif** file you need:<br>\n",
    "1) copy the link of this tab;<br>\n",
    "2) delete the last part after andscapegeoinf-sp2021_workshop-********;<br>\n",
    "3) add \"tree\" to the link;<br>\n",
    "The final link should look like https://hub.gke2.mybinder.org/user/landscapegeoinf-sp2021_workshop-8kbaogtt/tree."
   ]
  },
  {
   "cell_type": "code",
   "execution_count": null,
   "id": "bc60e631",
   "metadata": {},
   "outputs": [],
   "source": []
  }
 ],
 "metadata": {
  "kernelspec": {
   "display_name": "R",
   "language": "R",
   "name": "ir"
  },
  "language_info": {
   "codemirror_mode": "r",
   "file_extension": ".r",
   "mimetype": "text/x-r-source",
   "name": "R",
   "pygments_lexer": "r",
   "version": "3.6.1"
  }
 },
 "nbformat": 4,
 "nbformat_minor": 5
}
