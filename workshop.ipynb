{
 "cells": [
  {
   "cell_type": "markdown",
   "id": "de5faa9d",
   "metadata": {},
   "source": [
    "# Net Primary Production (NPP) - estimation of annual anomalies and trends over the last 20 years using R software: a case study in Estonia\n",
    "tutors: Bruno Montibeller and Iuliia Burdun <br>\n",
    "contacts bruno.montibeller@ut.ee\n",
    "\n",
    "\n",
    "## Introduction\n",
    "**The goal of this workshop is to teach the participants how to work with spatial data in R programming software by applying the Mann-Kendall (MK) trend test and calculate Theil–Sen values on a gridded net primary production data.**\n",
    "\n",
    "Net primary production (NPP) can be defined as the quantity of carbon assimilated per unit of area over a given period of time. It is calculated through the subtraction of the plant respiration rates from the gross primary production rates. The NPP data (named __[MOD17A3HGF](https://lpdaac.usgs.gov/products/mod17a3hgfv006/#tools)__) that we will be using is based on the data acquired by the Moderate Resolution Imaging Spectroradiometer (MODIS) remote sensor onboard of the Terra satellite. The data is calculated on annual basis using the gross primary production product of the same sensor, annual rates of growth respiration and annual maintenance respiration of live cells in woody. Additional info can be found on the __[user guide](https://lpdaac.usgs.gov/documents/495/MOD17_User_Guide_V6.pdf)__. \n",
    "\n",
    "MK trend test has been widely applied to infer about the temporal trends in time series of environmental variables. MK is a nonparametric test, therefore, it does not require normal distribution of the data, but it does assume no autocorrelation in the time series. The MK test has as null hypothesis that the time series has no trend, and the alternative hypothesis is that it does have a trend (upward or downward). \n",
    "\n",
    "The MK trend test first calculates the differences between all pairs of earlier and later data points in the time series. After that, it calculates the variance of these differences, which is posteriorly used to calculate the Z test value. Finally, the statistical significance of the trend is quantified by calculating the probability associated with the normalized Z test. If Z > 0, it indicates an increasing trend and if Z < 0 it indicates a decreasing trend. Usually, the trends are defined as significant using 95% confidence level. In addition to the trend calculation, it is also possible to quantify the magnitude of the trends. The magnitudes can be estimated by using the nonparametric Sen statistic, more specifically, the Theil–Sen estimator which is given by the median of the slopes of each pair of points. To calculate the Theil–Sen, the times series data is ordered accordingly to the time (as function of time) and a confidence interval is provided for each slope value (same as in the MK test).\n",
    "\n",
    "## Data\n",
    "* __[Estonian boundaries](https://gadm.org/data.html)__\n",
    "* __[Estonian forest cover](https://doi.org/10.1038/s41893-020-00609-y)__\n",
    "* __[MODIS NPP](https://lpdaacsvc.cr.usgs.gov/appeears/)__\n",
    "\n",
    "\n",
    "\n",
    "## R libraries \n",
    "* __[terra](https://cran.r-project.org/web/packages/terra/terra.pdf)__ - methods for spatial data analysis with raster and vector data\n",
    "* __[raster](https://cran.r-project.org/web/packages/raster/raster.pdf)__ - reading, writing, manipulating, analyzing and modeling of spatial data.\n",
    "* __[tmap](https://cran.r-project.org/web/packages/tmap/tmap.pdf)__ - create thematic maps\n",
    "* __[sf](https://cran.r-project.org/web/packages/sf/sf.pdf)__ - support for simple features, a standardized way to encode spatial vector data\n",
    "* __[viridis](https://cran.r-project.org/web/packages/viridis/viridis.pdf)__ - color maps designed to improve graph readability for readers with common forms of color blindness and/or color vision deficiency\n",
    "* __[rgdal](https://cran.r-project.org/web/packages/rgdal/rgdal.pdf)__ - provides access to projection/transformation operations\n",
    "* __[tidyverse](https://www.tidyverse.org/)__ - set of packages designed for data science \n",
    "* __[tidyr](https://cran.r-project.org/web/packages/tidyr/tidyr.pdf)__  - tools for changing the shapeand hierarchy of a dataset\n",
    "* __[wql](https://cran.r-project.org/web/packages/wql/wql.pdf)__ - functions useful for analysis of similar-frequency time series data\n",
    "* __[plyr](https://cran.r-project.org/web/packages/plyr/plyr.pdf)__ - helps summarize data quickly\n",
    "* __[maditr](https://cran.r-project.org/web/packages/maditr/maditr.pdf)__  - provides pipe-style interface for data.table package\n",
    "* __[gifski](https://cran.r-project.org/web/packages/gifski/gifski.pdf)__  - converts images to GIF animations \n",
    "* __[curl](https://cran.r-project.org/web/packages/curl/curl.pdf)__ - download data from web\n",
    "\n",
    "## Workflow\n"
   ]
  },
  {
   "cell_type": "code",
   "execution_count": null,
   "id": "ed28c40e",
   "metadata": {},
   "outputs": [],
   "source": [
    "#Install libraries\n",
    "install.packages(c(\"terra\",\"raster\",\"tmap\",\"sf\",\"viridis\", \"rgdal\", \"tidyverse\", \"tidyr\", \n",
    "                       \"wql\", \"plyr\", \"maditr\", \"gifski\", \"curl\"), quiet = TRUE) "
   ]
  },
  {
   "cell_type": "code",
   "execution_count": null,
   "id": "6fa43888",
   "metadata": {},
   "outputs": [],
   "source": [
    "# Load libraries\n",
    "require(terra)\n",
    "require(raster)\n",
    "require(tmap)\n",
    "require(sf)\n",
    "require(viridis)\n",
    "require(rgdal)\n",
    "require(tidyverse)\n",
    "require(tidyr)\n",
    "require(wql)\n",
    "require(plyr)\n",
    "require(maditr)\n",
    "require(gifski)\n",
    "require(curl) "
   ]
  },
  {
   "cell_type": "code",
   "execution_count": 3,
   "id": "7aca6e96",
   "metadata": {},
   "outputs": [
    {
     "data": {
      "text/html": [
       "<ol class=list-inline>\n",
       "\t<li>'C:/Users/burdu/OneDrive - Tartu Ülikool/Iuliia Burdun Tartu/ESP workshop/jupyter_R'</li>\n",
       "\t<li>'C:/Users/burdu/miniconda3/envs/espworkshop/Lib/R/library'</li>\n",
       "</ol>\n"
      ],
      "text/latex": [
       "\\begin{enumerate*}\n",
       "\\item 'C:/Users/burdu/OneDrive - Tartu Ülikool/Iuliia Burdun Tartu/ESP workshop/jupyter\\_R'\n",
       "\\item 'C:/Users/burdu/miniconda3/envs/espworkshop/Lib/R/library'\n",
       "\\end{enumerate*}\n"
      ],
      "text/markdown": [
       "1. 'C:/Users/burdu/OneDrive - Tartu Ülikool/Iuliia Burdun Tartu/ESP workshop/jupyter_R'\n",
       "2. 'C:/Users/burdu/miniconda3/envs/espworkshop/Lib/R/library'\n",
       "\n",
       "\n"
      ],
      "text/plain": [
       "[1] \"C:/Users/burdu/OneDrive - Tartu Ülikool/Iuliia Burdun Tartu/ESP workshop/jupyter_R\"\n",
       "[2] \"C:/Users/burdu/miniconda3/envs/espworkshop/Lib/R/library\"                          "
      ]
     },
     "metadata": {},
     "output_type": "display_data"
    }
   ],
   "source": [
    ".libPaths(\"C:/Users/burdu/OneDrive - Tartu Ülikool/Iuliia Burdun Tartu/ESP workshop/jupyter_R\")\n",
    ".libPaths()"
   ]
  },
  {
   "cell_type": "code",
   "execution_count": 4,
   "id": "78292252",
   "metadata": {},
   "outputs": [
    {
     "name": "stderr",
     "output_type": "stream",
     "text": [
      "also installing the dependencies 'lattice', 'sp', 'raster'\n",
      "\n"
     ]
    },
    {
     "name": "stdout",
     "output_type": "stream",
     "text": [
      "\n",
      "  There is a binary version available but the source version is later:\n",
      "      binary source needs_compilation\n",
      "terra  1.2-5 1.2-10              TRUE\n",
      "\n",
      "  Binaries will be installed\n",
      "package 'lattice' successfully unpacked and MD5 sums checked\n",
      "package 'sp' successfully unpacked and MD5 sums checked\n",
      "package 'raster' successfully unpacked and MD5 sums checked\n",
      "package 'terra' successfully unpacked and MD5 sums checked\n"
     ]
    }
   ],
   "source": [
    "install.packages(\"terra\", quiet = TRUE) "
   ]
  },
  {
   "cell_type": "code",
   "execution_count": null,
   "id": "f01922b0",
   "metadata": {},
   "outputs": [
    {
     "name": "stderr",
     "output_type": "stream",
     "text": [
      "Loading required package: terra\n",
      "Warning message:\n",
      "\"package 'terra' was built under R version 3.6.3\""
     ]
    }
   ],
   "source": [
    "require(terra)"
   ]
  },
  {
   "cell_type": "code",
   "execution_count": 1,
   "id": "b3b585a3",
   "metadata": {},
   "outputs": [
    {
     "data": {
      "text/plain": [
       "               _                           \n",
       "platform       x86_64-w64-mingw32          \n",
       "arch           x86_64                      \n",
       "os             mingw32                     \n",
       "system         x86_64, mingw32             \n",
       "status                                     \n",
       "major          3                           \n",
       "minor          6.1                         \n",
       "year           2019                        \n",
       "month          07                          \n",
       "day            05                          \n",
       "svn rev        76782                       \n",
       "language       R                           \n",
       "version.string R version 3.6.1 (2019-07-05)\n",
       "nickname       Action of the Toes          "
      ]
     },
     "metadata": {},
     "output_type": "display_data"
    }
   ],
   "source": [
    "R.version"
   ]
  },
  {
   "cell_type": "code",
   "execution_count": null,
   "id": "112d5516",
   "metadata": {},
   "outputs": [],
   "source": []
  },
  {
   "cell_type": "code",
   "execution_count": null,
   "id": "cce02112",
   "metadata": {},
   "outputs": [],
   "source": []
  },
  {
   "cell_type": "code",
   "execution_count": null,
   "id": "177176e9",
   "metadata": {},
   "outputs": [],
   "source": []
  },
  {
   "cell_type": "code",
   "execution_count": null,
   "id": "bbd7c733",
   "metadata": {},
   "outputs": [],
   "source": []
  },
  {
   "cell_type": "code",
   "execution_count": null,
   "id": "f96dc28d",
   "metadata": {},
   "outputs": [],
   "source": []
  },
  {
   "cell_type": "code",
   "execution_count": null,
   "id": "47868200",
   "metadata": {},
   "outputs": [],
   "source": []
  },
  {
   "cell_type": "code",
   "execution_count": null,
   "id": "6a37177d",
   "metadata": {},
   "outputs": [],
   "source": []
  },
  {
   "cell_type": "code",
   "execution_count": null,
   "id": "ecdc51e9",
   "metadata": {},
   "outputs": [],
   "source": []
  }
 ],
 "metadata": {
  "kernelspec": {
   "display_name": "R",
   "language": "R",
   "name": "ir"
  },
  "language_info": {
   "codemirror_mode": "r",
   "file_extension": ".r",
   "mimetype": "text/x-r-source",
   "name": "R",
   "pygments_lexer": "r",
   "version": "3.6.1"
  }
 },
 "nbformat": 4,
 "nbformat_minor": 5
}
